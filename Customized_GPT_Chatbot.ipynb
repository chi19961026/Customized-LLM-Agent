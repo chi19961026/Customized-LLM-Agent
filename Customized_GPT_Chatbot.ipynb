{
  "nbformat": 4,
  "nbformat_minor": 0,
  "metadata": {
    "colab": {
      "provenance": [],
      "include_colab_link": true
    },
    "kernelspec": {
      "name": "python3",
      "display_name": "Python 3"
    },
    "language_info": {
      "name": "python"
    }
  },
  "cells": [
    {
      "cell_type": "markdown",
      "metadata": {
        "id": "view-in-github",
        "colab_type": "text"
      },
      "source": [
        "<a href=\"https://colab.research.google.com/github/chi19961026/OpenAI-Customized-Chatbot/blob/main/Customized_GPT_Chatbot.ipynb\" target=\"_parent\"><img src=\"https://colab.research.google.com/assets/colab-badge.svg\" alt=\"Open In Colab\"/></a>"
      ]
    },
    {
      "cell_type": "code",
      "execution_count": 1,
      "metadata": {
        "id": "3xSY74vPUuyd",
        "colab": {
          "base_uri": "https://localhost:8080/"
        },
        "outputId": "0f666c21-618d-4106-f15b-cfbb070ec896"
      },
      "outputs": [
        {
          "output_type": "stream",
          "name": "stdout",
          "text": [
            "Requirement already satisfied: openai in /usr/local/lib/python3.10/dist-packages (1.35.14)\n",
            "Requirement already satisfied: anyio<5,>=3.5.0 in /usr/local/lib/python3.10/dist-packages (from openai) (3.7.1)\n",
            "Requirement already satisfied: distro<2,>=1.7.0 in /usr/lib/python3/dist-packages (from openai) (1.7.0)\n",
            "Requirement already satisfied: httpx<1,>=0.23.0 in /usr/local/lib/python3.10/dist-packages (from openai) (0.27.0)\n",
            "Requirement already satisfied: pydantic<3,>=1.9.0 in /usr/local/lib/python3.10/dist-packages (from openai) (2.8.2)\n",
            "Requirement already satisfied: sniffio in /usr/local/lib/python3.10/dist-packages (from openai) (1.3.1)\n",
            "Requirement already satisfied: tqdm>4 in /usr/local/lib/python3.10/dist-packages (from openai) (4.66.4)\n",
            "Requirement already satisfied: typing-extensions<5,>=4.7 in /usr/local/lib/python3.10/dist-packages (from openai) (4.12.2)\n",
            "Requirement already satisfied: idna>=2.8 in /usr/local/lib/python3.10/dist-packages (from anyio<5,>=3.5.0->openai) (3.7)\n",
            "Requirement already satisfied: exceptiongroup in /usr/local/lib/python3.10/dist-packages (from anyio<5,>=3.5.0->openai) (1.2.1)\n",
            "Requirement already satisfied: certifi in /usr/local/lib/python3.10/dist-packages (from httpx<1,>=0.23.0->openai) (2024.7.4)\n",
            "Requirement already satisfied: httpcore==1.* in /usr/local/lib/python3.10/dist-packages (from httpx<1,>=0.23.0->openai) (1.0.5)\n",
            "Requirement already satisfied: h11<0.15,>=0.13 in /usr/local/lib/python3.10/dist-packages (from httpcore==1.*->httpx<1,>=0.23.0->openai) (0.14.0)\n",
            "Requirement already satisfied: annotated-types>=0.4.0 in /usr/local/lib/python3.10/dist-packages (from pydantic<3,>=1.9.0->openai) (0.7.0)\n",
            "Requirement already satisfied: pydantic-core==2.20.1 in /usr/local/lib/python3.10/dist-packages (from pydantic<3,>=1.9.0->openai) (2.20.1)\n"
          ]
        }
      ],
      "source": [
        "pip install openai"
      ]
    },
    {
      "cell_type": "code",
      "source": [
        "pip install tiktoken"
      ],
      "metadata": {
        "colab": {
          "base_uri": "https://localhost:8080/"
        },
        "id": "w7n0qVKNfAI3",
        "outputId": "9667601d-6ec9-411b-b893-3867b81f185c"
      },
      "execution_count": 2,
      "outputs": [
        {
          "output_type": "stream",
          "name": "stdout",
          "text": [
            "Requirement already satisfied: tiktoken in /usr/local/lib/python3.10/dist-packages (0.7.0)\n",
            "Requirement already satisfied: regex>=2022.1.18 in /usr/local/lib/python3.10/dist-packages (from tiktoken) (2024.5.15)\n",
            "Requirement already satisfied: requests>=2.26.0 in /usr/local/lib/python3.10/dist-packages (from tiktoken) (2.31.0)\n",
            "Requirement already satisfied: charset-normalizer<4,>=2 in /usr/local/lib/python3.10/dist-packages (from requests>=2.26.0->tiktoken) (3.3.2)\n",
            "Requirement already satisfied: idna<4,>=2.5 in /usr/local/lib/python3.10/dist-packages (from requests>=2.26.0->tiktoken) (3.7)\n",
            "Requirement already satisfied: urllib3<3,>=1.21.1 in /usr/local/lib/python3.10/dist-packages (from requests>=2.26.0->tiktoken) (2.0.7)\n",
            "Requirement already satisfied: certifi>=2017.4.17 in /usr/local/lib/python3.10/dist-packages (from requests>=2.26.0->tiktoken) (2024.7.4)\n"
          ]
        }
      ]
    },
    {
      "cell_type": "code",
      "source": [
        "from google.colab import drive\n",
        "drive.mount('/content/drive')"
      ],
      "metadata": {
        "colab": {
          "base_uri": "https://localhost:8080/"
        },
        "id": "N8Sj_dRi__RC",
        "outputId": "51002a2f-023b-40ed-b10d-7f9e45db5fce"
      },
      "execution_count": 3,
      "outputs": [
        {
          "output_type": "stream",
          "name": "stdout",
          "text": [
            "Drive already mounted at /content/drive; to attempt to forcibly remount, call drive.mount(\"/content/drive\", force_remount=True).\n"
          ]
        }
      ]
    },
    {
      "cell_type": "markdown",
      "source": [
        "## **Embedding QA data for Search**\n",
        "* Prerequisites: Import libraries, set API key\n",
        "* Collect: Gather FAQ from cross-functional teams\n",
        "* Chunk: Documents are split into short, semi-self-contained sections to be embedded\n",
        "* Embed: Each section is embedded with the OpenAI API\n",
        "* Store: Embeddings are saved in a CSV file (for large datasets, use a vector database)\n",
        "\n",
        "Resource: https://cookbook.openai.com/examples/embedding_wikipedia_articles_for_search\n"
      ],
      "metadata": {
        "id": "NRHOJNe9I-Uo"
      }
    },
    {
      "cell_type": "code",
      "source": [
        "# imports\n",
        "import ast  # for converting embeddings saved as strings back to arrays\n",
        "from openai import OpenAI # for calling the OpenAI API\n",
        "import pandas as pd  # for storing text and embeddings data\n",
        "import os # for getting API token from env variable OPENAI_API_KEY\n",
        "from scipy import spatial  # for calculating vector similarities for search\n",
        "import tiktoken\n"
      ],
      "metadata": {
        "id": "nBfWNaCtAMV9"
      },
      "execution_count": 4,
      "outputs": []
    },
    {
      "cell_type": "markdown",
      "source": [
        "#### **Chunk Documents**"
      ],
      "metadata": {
        "id": "qIHkrk48JmdH"
      }
    },
    {
      "cell_type": "code",
      "source": [
        "def chunk_text(text, delimiter=\"<%>\"):\n",
        "    \"\"\"\n",
        "    Splits the text into chunks based on the specified delimiter.\n",
        "    Each chunk will be stripped of leading and trailing whitespace for cleanliness.\n",
        "    \"\"\"\n",
        "    chunks = [chunk.strip() for chunk in text.split(delimiter) if chunk.strip()]\n",
        "    return chunks\n",
        "\n",
        "# Example usage\n",
        "training_data_txt_path = '/content/drive/MyDrive/2024 Summer Project/Customized ChatBot/Updated_Amazon_50_FAQ.txt'\n",
        "with open(training_data_txt_path, 'r', encoding='utf-8') as file:\n",
        "    text = file.read()\n",
        "\n",
        "chunks = chunk_text(text)\n",
        "\n",
        "# for i, chunk in enumerate(chunks):\n",
        "#     print(f\"Chunk {i+1}:\\n{chunk}\\n\")"
      ],
      "metadata": {
        "id": "FcHhI9MBEvN7"
      },
      "execution_count": 5,
      "outputs": []
    },
    {
      "cell_type": "markdown",
      "source": [
        "#### **Embed document chunks**"
      ],
      "metadata": {
        "id": "h6v-SoLWNzmC"
      }
    },
    {
      "cell_type": "code",
      "source": [
        "client = OpenAI(api_key=OPENAI_API_KEY)"
      ],
      "metadata": {
        "id": "BJDpVkDfEoJb"
      },
      "execution_count": 6,
      "outputs": []
    },
    {
      "cell_type": "code",
      "source": [
        "# models\n",
        "EMBEDDING_MODEL = \"text-embedding-ada-002\"\n",
        "GPT_MODEL = \"gpt-3.5-turbo\""
      ],
      "metadata": {
        "id": "47wPALSaTt8i"
      },
      "execution_count": 7,
      "outputs": []
    },
    {
      "cell_type": "code",
      "source": [
        "def generate_embeddings(chunks, model=EMBEDDING_MODEL, batch_size=50):\n",
        "    \"\"\"\n",
        "    Generates embeddings for given text chunks using OpenAI's API in batches.\n",
        "\n",
        "    Parameters:\n",
        "    - chunks (list of str): Text chunks to embed.\n",
        "    - model (str): Model identifier for the embedding model.\n",
        "    - batch_size (int): Number of chunks to process in each batch.\n",
        "\n",
        "    Returns:\n",
        "    - DataFrame: A pandas DataFrame containing the original text and its embeddings.\n",
        "    \"\"\"\n",
        "    embeddings = []\n",
        "    for batch_start in range(0, len(chunks), batch_size):\n",
        "        batch_end = batch_start + batch_size\n",
        "        batch = chunks[batch_start:batch_end]\n",
        "        print(f\"Batch {batch_start} to {batch_end-1}\")\n",
        "        try:\n",
        "            response = client.embeddings.create(model=model, input=batch)\n",
        "            for i, be in enumerate(response.data):\n",
        "                assert i == be.index  # Ensures order is preserved\n",
        "            batch_embeddings = [e.embedding for e in response.data]\n",
        "            embeddings.extend(batch_embeddings)\n",
        "        except Exception as e:\n",
        "            print(f\"Failed to process batch {batch_start} to {batch_end-1}: {e}\")\n",
        "\n",
        "    # Create a DataFrame to store text with its corresponding embeddings\n",
        "    df = pd.DataFrame({\"text\": chunks, \"embedding\": embeddings})\n",
        "    return df\n",
        "\n",
        "embedding_df = generate_embeddings(chunks)"
      ],
      "metadata": {
        "colab": {
          "base_uri": "https://localhost:8080/"
        },
        "id": "BHFvQ5UnRwW5",
        "outputId": "123c3d14-f28d-48a6-b49f-38a2ded01b76"
      },
      "execution_count": 8,
      "outputs": [
        {
          "output_type": "stream",
          "name": "stdout",
          "text": [
            "Batch 0 to 49\n"
          ]
        }
      ]
    },
    {
      "cell_type": "markdown",
      "source": [
        "#### **Store document chunks and embeddings**"
      ],
      "metadata": {
        "id": "zyfM0x0wSYBX"
      }
    },
    {
      "cell_type": "code",
      "source": [
        "# save document chunks and embeddings\n",
        "embeddings_path = \"/content/drive/MyDrive/2024 Summer Project/Customized ChatBot/embedded_Amazon FAQ.csv\"\n",
        "\n",
        "embedding_df.to_csv(embeddings_path, index=False)"
      ],
      "metadata": {
        "id": "ZWtLsw-jQ_4s"
      },
      "execution_count": 9,
      "outputs": []
    },
    {
      "cell_type": "markdown",
      "source": [
        "## **Embedding Search Test**"
      ],
      "metadata": {
        "id": "RSyIUmk1TOxD"
      }
    },
    {
      "cell_type": "code",
      "source": [
        "# search function\n",
        "def strings_ranked_by_relatedness(\n",
        "    query: str,\n",
        "    df: pd.DataFrame,\n",
        "    relatedness_fn=lambda x, y: 1 - spatial.distance.cosine(x, y),\n",
        "    top_n: int = 100\n",
        ") -> tuple[list[str], list[float]]:\n",
        "    \"\"\"Returns a list of strings and relatednesses, sorted from most related to least.\"\"\"\n",
        "    query_embedding_response = client.embeddings.create(\n",
        "        model=EMBEDDING_MODEL,\n",
        "        input=query,\n",
        "    )\n",
        "    query_embedding = query_embedding_response.data[0].embedding\n",
        "    strings_and_relatednesses = [\n",
        "        (row[\"text\"], relatedness_fn(query_embedding, row[\"embedding\"]))\n",
        "        for i, row in df.iterrows()\n",
        "    ]\n",
        "    strings_and_relatednesses.sort(key=lambda x: x[1], reverse=True)\n",
        "    strings, relatednesses = zip(*strings_and_relatednesses)\n",
        "    return strings[:top_n], relatednesses[:top_n]\n",
        "\n",
        "# examples\n",
        "strings, relatednesses = strings_ranked_by_relatedness(\"how much is student prime fee?\", embedding_df, top_n=5)\n",
        "for string, relatedness in zip(strings, relatednesses):\n",
        "    print(f\"{relatedness=:.3f}\")\n",
        "    display(string)"
      ],
      "metadata": {
        "colab": {
          "base_uri": "https://localhost:8080/",
          "height": 281
        },
        "id": "9vwx0U8YTQJ3",
        "outputId": "5e99beaf-a2a1-4b4c-bec6-c3ef80c45c64"
      },
      "execution_count": 10,
      "outputs": [
        {
          "output_type": "stream",
          "name": "stdout",
          "text": [
            "relatedness=0.846\n"
          ]
        },
        {
          "output_type": "display_data",
          "data": {
            "text/plain": [
              "'What is the Amazon Prime membership fee?\\n* The current pricing is $14.99 per month or $139 per year for Amazon Prime. Prime Video membership is $8.99 per month. Amazon Prime Student membership is $7.49 per month or $69 per year. Prime Access for EBT, Medicaid, SNAP, and other select government assistance recipients is $6.99 per month.'"
            ],
            "application/vnd.google.colaboratory.intrinsic+json": {
              "type": "string"
            }
          },
          "metadata": {}
        },
        {
          "output_type": "stream",
          "name": "stdout",
          "text": [
            "relatedness=0.828\n"
          ]
        },
        {
          "output_type": "display_data",
          "data": {
            "text/plain": [
              "'What is the Prime Access program for government assistance recipients?\\n* Prime Access offers a discounted monthly Prime membership for EBT, Medicaid, SNAP, and other select government assistance recipients at $6.99 per month.'"
            ],
            "application/vnd.google.colaboratory.intrinsic+json": {
              "type": "string"
            }
          },
          "metadata": {}
        },
        {
          "output_type": "stream",
          "name": "stdout",
          "text": [
            "relatedness=0.819\n"
          ]
        },
        {
          "output_type": "display_data",
          "data": {
            "text/plain": [
              "'What is Amazon Prime Student, and what benefits does it offer?\\n* Amazon Prime Student offers all the benefits of Amazon Prime at a discounted rate for students, including shipping, streaming, and exclusive student deals.'"
            ],
            "application/vnd.google.colaboratory.intrinsic+json": {
              "type": "string"
            }
          },
          "metadata": {}
        },
        {
          "output_type": "stream",
          "name": "stdout",
          "text": [
            "relatedness=0.790\n"
          ]
        },
        {
          "output_type": "display_data",
          "data": {
            "text/plain": [
              "'What is the Prime Visa and how can it benefit Prime members?\\n* The Prime Visa offers eligible Prime members 5% back every day on Amazon.com purchases and access to exclusive financing offers.'"
            ],
            "application/vnd.google.colaboratory.intrinsic+json": {
              "type": "string"
            }
          },
          "metadata": {}
        },
        {
          "output_type": "stream",
          "name": "stdout",
          "text": [
            "relatedness=0.785\n"
          ]
        },
        {
          "output_type": "display_data",
          "data": {
            "text/plain": [
              "'What is the Grubhub+ membership benefit for Prime members?\\n* Prime members can redeem a free one-year Grubhub+ membership, which includes unlimited $0 delivery fees on orders over $12 and exclusive perks and rewards.'"
            ],
            "application/vnd.google.colaboratory.intrinsic+json": {
              "type": "string"
            }
          },
          "metadata": {}
        }
      ]
    },
    {
      "cell_type": "markdown",
      "source": [
        "## **Question Answering Using Embeddings-Based Search**\n",
        "1. Ensures messages stay within the token budget.\n",
        "2. Constructs a message with relevant text sections and the query.\n",
        "3. Asks questions and gets responses within the token limit, using relevant context provided.\n",
        "\n",
        "[Resource Link](https://cookbook.openai.com/examples/question_answering_using_embeddings)"
      ],
      "metadata": {
        "id": "BQDVBQ8zT--x"
      }
    },
    {
      "cell_type": "code",
      "source": [
        "def num_tokens(text: str, model: str = GPT_MODEL) -> int:\n",
        "    \"\"\"Return the number of tokens in a string.\"\"\"\n",
        "    encoding = tiktoken.encoding_for_model(model)\n",
        "    return len(encoding.encode(text))"
      ],
      "metadata": {
        "id": "pH4oziUHe204"
      },
      "execution_count": 11,
      "outputs": []
    },
    {
      "cell_type": "code",
      "source": [
        "def query_message(\n",
        "    query: str,\n",
        "    df: pd.DataFrame,\n",
        "    model: str,\n",
        "    token_budget: int\n",
        ") -> str:\n",
        "    \"\"\"Return a message for GPT, with relevant source texts pulled from a dataframe.\"\"\"\n",
        "    strings, relatednesses = strings_ranked_by_relatedness(query, embedding_df)\n",
        "    introduction = 'Use the below articles to answer the subsequent question.'\n",
        "    question = f\"\\n\\nQuestion: {query}\"\n",
        "    message = introduction\n",
        "    for string in strings:\n",
        "        next_article = f'\\n\\nWikipedia article section:\\n\"\"\"\\n{string}\\n\"\"\"'\n",
        "        if (\n",
        "            num_tokens(message + next_article + question, model=model)\n",
        "            > token_budget\n",
        "        ):\n",
        "            break\n",
        "        else:\n",
        "            message += next_article\n",
        "    return message + question\n",
        "\n",
        "\n",
        "# Define the system message with specific instructions\n",
        "system_prompt = \"\"\"\n",
        "    You are an Amazon Prime expert, primarily answering customer questions about Amazon Prime, providing professional advice, and clarifying and resolving user needs.\n",
        "\n",
        "    Tone: Professional yet friendly.\n",
        "    Formatting: List format, each answer should not exceed 3 points, total word count should be less than 200 words.\n",
        "    Only answer based on the provided information without expanding explanations.\n",
        "    Guide users to ask the next question based on the context.\n",
        "\n",
        "    Contextual Awareness:\n",
        "    Understand the context of each question to provide accurate and relevant answers.\n",
        "    Recognize and handle frequently asked questions versus less common queries effectively.\n",
        "\n",
        "    Error Handling and Clarifications:\n",
        "    Ask clarifying questions if the information provided by the user is incomplete or unclear.\n",
        "    Guide and direct users to ask related questions for irrelevant queries.\n",
        "\n",
        "    Personalization:\n",
        "    Use personalized responses by acknowledging any previous interactions.\n",
        "    Use empathetic language to enhance the user experience.\n",
        "\n",
        "    Encourage User Engagement:\n",
        "    Encourage users to ask follow-up questions or explore related topics.\n",
        "    Politely steer the conversation to other common questions if users inquire about your training process, custom instructions, or how you were trained.\n",
        "    \"\"\"\n",
        "\n",
        "\n",
        "def ask(\n",
        "    query: str,\n",
        "    df: pd.DataFrame = embedding_df,\n",
        "    model: str = GPT_MODEL,\n",
        "    token_budget: int = 4096 - 500,\n",
        "    print_message: bool = False,\n",
        ") -> str:\n",
        "    \"\"\"Answers a query using GPT and a dataframe of relevant texts and embeddings.\"\"\"\n",
        "    message = query_message(query, df, model=model, token_budget=token_budget)\n",
        "    if print_message:\n",
        "        print(message)\n",
        "    messages = [\n",
        "        {\"role\": \"system\", \"content\": system_prompt},\n",
        "        {\"role\": \"user\", \"content\": message},\n",
        "    ]\n",
        "    response = client.chat.completions.create(\n",
        "        model=model,\n",
        "        messages=messages,\n",
        "        temperature=0\n",
        "    )\n",
        "    response_message = response.choices[0].message.content\n",
        "    return response_message\n"
      ],
      "metadata": {
        "id": "pL5Ah6P6aqeV"
      },
      "execution_count": 12,
      "outputs": []
    },
    {
      "cell_type": "code",
      "source": [
        "def qa_test(question):\n",
        "    print(ask(question))"
      ],
      "metadata": {
        "id": "zORMBSEJff3h"
      },
      "execution_count": 13,
      "outputs": []
    },
    {
      "cell_type": "code",
      "source": [
        "qa_test(\"what are some questions i can ask you??\")"
      ],
      "metadata": {
        "colab": {
          "base_uri": "https://localhost:8080/"
        },
        "id": "YbaCAYTqhQfo",
        "outputId": "9edcf02e-b7ea-4a26-8352-3b84a06d4d68"
      },
      "execution_count": 14,
      "outputs": [
        {
          "output_type": "stream",
          "name": "stdout",
          "text": [
            "1. How can Prime members benefit from Prime Photos?\n",
            "2. What items are eligible for Amazon Prime shipping benefits?\n",
            "3. How can Prime members access Prime Reading content?\n"
          ]
        }
      ]
    },
    {
      "cell_type": "code",
      "source": [
        "qa_test(\"what is amazon prime?\")"
      ],
      "metadata": {
        "colab": {
          "base_uri": "https://localhost:8080/"
        },
        "id": "whyNhpPpeP_h",
        "outputId": "aa5b5564-9c56-457d-c5aa-198c23c04843"
      },
      "execution_count": 15,
      "outputs": [
        {
          "output_type": "stream",
          "name": "stdout",
          "text": [
            "1. Amazon Prime is a subscription service offering various benefits like fast shipping, streaming of movies and TV shows, exclusive deals, and more.\n",
            "2. Members can enjoy services like Prime Video, Prime Reading, Amazon Fresh, and exclusive discounts on Amazon products.\n",
            "3. Amazon Prime has a monthly fee of $14.99 or an annual fee of $139, providing access to a wide range of perks for subscribers.\n",
            "\n",
            "Do you have any specific questions about the benefits or features of Amazon Prime?\n"
          ]
        }
      ]
    },
    {
      "cell_type": "code",
      "source": [
        "qa_test(\"how much is prime fee\")"
      ],
      "metadata": {
        "colab": {
          "base_uri": "https://localhost:8080/"
        },
        "id": "kBqQCyAFgGZV",
        "outputId": "3acd59dd-0e42-4f01-9d34-659f20dd4263"
      },
      "execution_count": 16,
      "outputs": [
        {
          "output_type": "stream",
          "name": "stdout",
          "text": [
            "1. Amazon Prime membership fee is $14.99 per month or $139 per year.\n",
            "2. Prime Video membership fee is $8.99 per month.\n",
            "3. Amazon Prime Student membership fee is $7.49 per month or $69 per year.\n",
            "\n",
            "Would you like to know more about the benefits included in Amazon Prime membership or have any other questions related to Amazon Prime?\n"
          ]
        }
      ]
    },
    {
      "cell_type": "code",
      "source": [
        "# 無關問題\n",
        "qa_test(\"hows the weather\")"
      ],
      "metadata": {
        "colab": {
          "base_uri": "https://localhost:8080/"
        },
        "id": "iXRTBdekgM6e",
        "outputId": "94897bea-7688-4782-9cac-67e5108dd350"
      },
      "execution_count": 17,
      "outputs": [
        {
          "output_type": "stream",
          "name": "stdout",
          "text": [
            "I'm here to help with Amazon Prime-related questions. Feel free to ask about Prime benefits, services, or any other related queries you may have! What would you like to know about Amazon Prime today?\n"
          ]
        }
      ]
    },
    {
      "cell_type": "code",
      "source": [
        "# 不明問題\n",
        "qa_test(\"$$?\")"
      ],
      "metadata": {
        "colab": {
          "base_uri": "https://localhost:8080/"
        },
        "id": "vsDzqFSFjPZU",
        "outputId": "bf745690-0290-4cd9-e0a3-e71f1e8b3c94"
      },
      "execution_count": 18,
      "outputs": [
        {
          "output_type": "stream",
          "name": "stdout",
          "text": [
            "1. How can Prime members save on prescriptions?\n",
            "2. What is the Prime Rx program and its benefits for Prime members?\n",
            "3. Where can Prime members access discounts on medications through the Prime Rx program?\n"
          ]
        }
      ]
    },
    {
      "cell_type": "markdown",
      "source": [
        "### QA Test"
      ],
      "metadata": {
        "id": "u1nStQdMTWVs"
      }
    },
    {
      "cell_type": "code",
      "source": [
        "pip install rouge"
      ],
      "metadata": {
        "colab": {
          "base_uri": "https://localhost:8080/"
        },
        "id": "9xExykSRimx1",
        "outputId": "c609b615-2d13-4630-9e31-e0f7fa8f388e"
      },
      "execution_count": 19,
      "outputs": [
        {
          "output_type": "stream",
          "name": "stdout",
          "text": [
            "Requirement already satisfied: rouge in /usr/local/lib/python3.10/dist-packages (1.0.1)\n",
            "Requirement already satisfied: six in /usr/local/lib/python3.10/dist-packages (from rouge) (1.16.0)\n"
          ]
        }
      ]
    },
    {
      "cell_type": "code",
      "source": [
        "import nltk\n",
        "from nltk.translate.bleu_score import sentence_bleu, SmoothingFunction\n",
        "from rouge import Rouge\n",
        "from nltk.translate.meteor_score import meteor_score\n",
        "\n",
        "# Ensure you have the necessary NLTK data\n",
        "nltk.download('punkt')\n",
        "nltk.download('wordnet')\n"
      ],
      "metadata": {
        "colab": {
          "base_uri": "https://localhost:8080/"
        },
        "id": "luz1CLOFV71o",
        "outputId": "df8d1b7e-4a67-4619-da84-91e09ed3b3ed"
      },
      "execution_count": 20,
      "outputs": [
        {
          "output_type": "stream",
          "name": "stderr",
          "text": [
            "[nltk_data] Downloading package punkt to /root/nltk_data...\n",
            "[nltk_data]   Package punkt is already up-to-date!\n",
            "[nltk_data] Downloading package wordnet to /root/nltk_data...\n",
            "[nltk_data]   Package wordnet is already up-to-date!\n"
          ]
        },
        {
          "output_type": "execute_result",
          "data": {
            "text/plain": [
              "True"
            ]
          },
          "metadata": {},
          "execution_count": 20
        }
      ]
    },
    {
      "cell_type": "code",
      "source": [
        "# Load the test dataset\n",
        "testfile_path = '/content/drive/MyDrive/2024 Summer Project/Customized ChatBot/Amazon 10 FAQ test.xlsx'\n",
        "test_df = pd.read_excel(testfile_path)\n",
        "test_df"
      ],
      "metadata": {
        "colab": {
          "base_uri": "https://localhost:8080/",
          "height": 362
        },
        "id": "IKdQR0p1bM2p",
        "outputId": "4273fb93-1c6c-42de-b9a1-3571433162ab"
      },
      "execution_count": 21,
      "outputs": [
        {
          "output_type": "execute_result",
          "data": {
            "text/plain": [
              "                                       test_question  \\\n",
              "0  What products qualify for Amazon Prime shippin...   \n",
              "1  What shipping options are included with Amazon...   \n",
              "2               Can you explain Amazon Day Delivery?   \n",
              "3  Are there any items that do not qualify for Am...   \n",
              "4  Is Amazon Prime shipping available for interna...   \n",
              "5  What streaming benefits does Amazon Prime Vide...   \n",
              "6  How can Prime members access Amazon Music for ...   \n",
              "7             What benefits does Prime Gaming offer?   \n",
              "8            How does Prime Try Before You Buy work?   \n",
              "9  What exclusive savings do Prime members get at...   \n",
              "\n",
              "                                         test_answer  \n",
              "0  Items sold directly by Amazon.com and marked a...  \n",
              "1  Amazon Prime offers several shipping options, ...  \n",
              "2  Amazon Day Delivery allows Prime members to ch...  \n",
              "3  Items not eligible for Prime shipping include ...  \n",
              "4  No, Amazon Prime shipping benefits are not ava...  \n",
              "5  Amazon Prime Video provides unlimited streamin...  \n",
              "6  Prime members get access to Amazon Music, whic...  \n",
              "7  Prime Gaming offers free games, a free monthly...  \n",
              "8  Prime Try Before You Buy allows Prime members ...  \n",
              "9  Prime members receive exclusive savings at Who...  "
            ],
            "text/html": [
              "\n",
              "  <div id=\"df-6ec7e027-e419-42d1-9ea8-db0ba6153ad5\" class=\"colab-df-container\">\n",
              "    <div>\n",
              "<style scoped>\n",
              "    .dataframe tbody tr th:only-of-type {\n",
              "        vertical-align: middle;\n",
              "    }\n",
              "\n",
              "    .dataframe tbody tr th {\n",
              "        vertical-align: top;\n",
              "    }\n",
              "\n",
              "    .dataframe thead th {\n",
              "        text-align: right;\n",
              "    }\n",
              "</style>\n",
              "<table border=\"1\" class=\"dataframe\">\n",
              "  <thead>\n",
              "    <tr style=\"text-align: right;\">\n",
              "      <th></th>\n",
              "      <th>test_question</th>\n",
              "      <th>test_answer</th>\n",
              "    </tr>\n",
              "  </thead>\n",
              "  <tbody>\n",
              "    <tr>\n",
              "      <th>0</th>\n",
              "      <td>What products qualify for Amazon Prime shippin...</td>\n",
              "      <td>Items sold directly by Amazon.com and marked a...</td>\n",
              "    </tr>\n",
              "    <tr>\n",
              "      <th>1</th>\n",
              "      <td>What shipping options are included with Amazon...</td>\n",
              "      <td>Amazon Prime offers several shipping options, ...</td>\n",
              "    </tr>\n",
              "    <tr>\n",
              "      <th>2</th>\n",
              "      <td>Can you explain Amazon Day Delivery?</td>\n",
              "      <td>Amazon Day Delivery allows Prime members to ch...</td>\n",
              "    </tr>\n",
              "    <tr>\n",
              "      <th>3</th>\n",
              "      <td>Are there any items that do not qualify for Am...</td>\n",
              "      <td>Items not eligible for Prime shipping include ...</td>\n",
              "    </tr>\n",
              "    <tr>\n",
              "      <th>4</th>\n",
              "      <td>Is Amazon Prime shipping available for interna...</td>\n",
              "      <td>No, Amazon Prime shipping benefits are not ava...</td>\n",
              "    </tr>\n",
              "    <tr>\n",
              "      <th>5</th>\n",
              "      <td>What streaming benefits does Amazon Prime Vide...</td>\n",
              "      <td>Amazon Prime Video provides unlimited streamin...</td>\n",
              "    </tr>\n",
              "    <tr>\n",
              "      <th>6</th>\n",
              "      <td>How can Prime members access Amazon Music for ...</td>\n",
              "      <td>Prime members get access to Amazon Music, whic...</td>\n",
              "    </tr>\n",
              "    <tr>\n",
              "      <th>7</th>\n",
              "      <td>What benefits does Prime Gaming offer?</td>\n",
              "      <td>Prime Gaming offers free games, a free monthly...</td>\n",
              "    </tr>\n",
              "    <tr>\n",
              "      <th>8</th>\n",
              "      <td>How does Prime Try Before You Buy work?</td>\n",
              "      <td>Prime Try Before You Buy allows Prime members ...</td>\n",
              "    </tr>\n",
              "    <tr>\n",
              "      <th>9</th>\n",
              "      <td>What exclusive savings do Prime members get at...</td>\n",
              "      <td>Prime members receive exclusive savings at Who...</td>\n",
              "    </tr>\n",
              "  </tbody>\n",
              "</table>\n",
              "</div>\n",
              "    <div class=\"colab-df-buttons\">\n",
              "\n",
              "  <div class=\"colab-df-container\">\n",
              "    <button class=\"colab-df-convert\" onclick=\"convertToInteractive('df-6ec7e027-e419-42d1-9ea8-db0ba6153ad5')\"\n",
              "            title=\"Convert this dataframe to an interactive table.\"\n",
              "            style=\"display:none;\">\n",
              "\n",
              "  <svg xmlns=\"http://www.w3.org/2000/svg\" height=\"24px\" viewBox=\"0 -960 960 960\">\n",
              "    <path d=\"M120-120v-720h720v720H120Zm60-500h600v-160H180v160Zm220 220h160v-160H400v160Zm0 220h160v-160H400v160ZM180-400h160v-160H180v160Zm440 0h160v-160H620v160ZM180-180h160v-160H180v160Zm440 0h160v-160H620v160Z\"/>\n",
              "  </svg>\n",
              "    </button>\n",
              "\n",
              "  <style>\n",
              "    .colab-df-container {\n",
              "      display:flex;\n",
              "      gap: 12px;\n",
              "    }\n",
              "\n",
              "    .colab-df-convert {\n",
              "      background-color: #E8F0FE;\n",
              "      border: none;\n",
              "      border-radius: 50%;\n",
              "      cursor: pointer;\n",
              "      display: none;\n",
              "      fill: #1967D2;\n",
              "      height: 32px;\n",
              "      padding: 0 0 0 0;\n",
              "      width: 32px;\n",
              "    }\n",
              "\n",
              "    .colab-df-convert:hover {\n",
              "      background-color: #E2EBFA;\n",
              "      box-shadow: 0px 1px 2px rgba(60, 64, 67, 0.3), 0px 1px 3px 1px rgba(60, 64, 67, 0.15);\n",
              "      fill: #174EA6;\n",
              "    }\n",
              "\n",
              "    .colab-df-buttons div {\n",
              "      margin-bottom: 4px;\n",
              "    }\n",
              "\n",
              "    [theme=dark] .colab-df-convert {\n",
              "      background-color: #3B4455;\n",
              "      fill: #D2E3FC;\n",
              "    }\n",
              "\n",
              "    [theme=dark] .colab-df-convert:hover {\n",
              "      background-color: #434B5C;\n",
              "      box-shadow: 0px 1px 3px 1px rgba(0, 0, 0, 0.15);\n",
              "      filter: drop-shadow(0px 1px 2px rgba(0, 0, 0, 0.3));\n",
              "      fill: #FFFFFF;\n",
              "    }\n",
              "  </style>\n",
              "\n",
              "    <script>\n",
              "      const buttonEl =\n",
              "        document.querySelector('#df-6ec7e027-e419-42d1-9ea8-db0ba6153ad5 button.colab-df-convert');\n",
              "      buttonEl.style.display =\n",
              "        google.colab.kernel.accessAllowed ? 'block' : 'none';\n",
              "\n",
              "      async function convertToInteractive(key) {\n",
              "        const element = document.querySelector('#df-6ec7e027-e419-42d1-9ea8-db0ba6153ad5');\n",
              "        const dataTable =\n",
              "          await google.colab.kernel.invokeFunction('convertToInteractive',\n",
              "                                                    [key], {});\n",
              "        if (!dataTable) return;\n",
              "\n",
              "        const docLinkHtml = 'Like what you see? Visit the ' +\n",
              "          '<a target=\"_blank\" href=https://colab.research.google.com/notebooks/data_table.ipynb>data table notebook</a>'\n",
              "          + ' to learn more about interactive tables.';\n",
              "        element.innerHTML = '';\n",
              "        dataTable['output_type'] = 'display_data';\n",
              "        await google.colab.output.renderOutput(dataTable, element);\n",
              "        const docLink = document.createElement('div');\n",
              "        docLink.innerHTML = docLinkHtml;\n",
              "        element.appendChild(docLink);\n",
              "      }\n",
              "    </script>\n",
              "  </div>\n",
              "\n",
              "\n",
              "<div id=\"df-56a14672-33b0-4166-9397-82e72e4c781f\">\n",
              "  <button class=\"colab-df-quickchart\" onclick=\"quickchart('df-56a14672-33b0-4166-9397-82e72e4c781f')\"\n",
              "            title=\"Suggest charts\"\n",
              "            style=\"display:none;\">\n",
              "\n",
              "<svg xmlns=\"http://www.w3.org/2000/svg\" height=\"24px\"viewBox=\"0 0 24 24\"\n",
              "     width=\"24px\">\n",
              "    <g>\n",
              "        <path d=\"M19 3H5c-1.1 0-2 .9-2 2v14c0 1.1.9 2 2 2h14c1.1 0 2-.9 2-2V5c0-1.1-.9-2-2-2zM9 17H7v-7h2v7zm4 0h-2V7h2v10zm4 0h-2v-4h2v4z\"/>\n",
              "    </g>\n",
              "</svg>\n",
              "  </button>\n",
              "\n",
              "<style>\n",
              "  .colab-df-quickchart {\n",
              "      --bg-color: #E8F0FE;\n",
              "      --fill-color: #1967D2;\n",
              "      --hover-bg-color: #E2EBFA;\n",
              "      --hover-fill-color: #174EA6;\n",
              "      --disabled-fill-color: #AAA;\n",
              "      --disabled-bg-color: #DDD;\n",
              "  }\n",
              "\n",
              "  [theme=dark] .colab-df-quickchart {\n",
              "      --bg-color: #3B4455;\n",
              "      --fill-color: #D2E3FC;\n",
              "      --hover-bg-color: #434B5C;\n",
              "      --hover-fill-color: #FFFFFF;\n",
              "      --disabled-bg-color: #3B4455;\n",
              "      --disabled-fill-color: #666;\n",
              "  }\n",
              "\n",
              "  .colab-df-quickchart {\n",
              "    background-color: var(--bg-color);\n",
              "    border: none;\n",
              "    border-radius: 50%;\n",
              "    cursor: pointer;\n",
              "    display: none;\n",
              "    fill: var(--fill-color);\n",
              "    height: 32px;\n",
              "    padding: 0;\n",
              "    width: 32px;\n",
              "  }\n",
              "\n",
              "  .colab-df-quickchart:hover {\n",
              "    background-color: var(--hover-bg-color);\n",
              "    box-shadow: 0 1px 2px rgba(60, 64, 67, 0.3), 0 1px 3px 1px rgba(60, 64, 67, 0.15);\n",
              "    fill: var(--button-hover-fill-color);\n",
              "  }\n",
              "\n",
              "  .colab-df-quickchart-complete:disabled,\n",
              "  .colab-df-quickchart-complete:disabled:hover {\n",
              "    background-color: var(--disabled-bg-color);\n",
              "    fill: var(--disabled-fill-color);\n",
              "    box-shadow: none;\n",
              "  }\n",
              "\n",
              "  .colab-df-spinner {\n",
              "    border: 2px solid var(--fill-color);\n",
              "    border-color: transparent;\n",
              "    border-bottom-color: var(--fill-color);\n",
              "    animation:\n",
              "      spin 1s steps(1) infinite;\n",
              "  }\n",
              "\n",
              "  @keyframes spin {\n",
              "    0% {\n",
              "      border-color: transparent;\n",
              "      border-bottom-color: var(--fill-color);\n",
              "      border-left-color: var(--fill-color);\n",
              "    }\n",
              "    20% {\n",
              "      border-color: transparent;\n",
              "      border-left-color: var(--fill-color);\n",
              "      border-top-color: var(--fill-color);\n",
              "    }\n",
              "    30% {\n",
              "      border-color: transparent;\n",
              "      border-left-color: var(--fill-color);\n",
              "      border-top-color: var(--fill-color);\n",
              "      border-right-color: var(--fill-color);\n",
              "    }\n",
              "    40% {\n",
              "      border-color: transparent;\n",
              "      border-right-color: var(--fill-color);\n",
              "      border-top-color: var(--fill-color);\n",
              "    }\n",
              "    60% {\n",
              "      border-color: transparent;\n",
              "      border-right-color: var(--fill-color);\n",
              "    }\n",
              "    80% {\n",
              "      border-color: transparent;\n",
              "      border-right-color: var(--fill-color);\n",
              "      border-bottom-color: var(--fill-color);\n",
              "    }\n",
              "    90% {\n",
              "      border-color: transparent;\n",
              "      border-bottom-color: var(--fill-color);\n",
              "    }\n",
              "  }\n",
              "</style>\n",
              "\n",
              "  <script>\n",
              "    async function quickchart(key) {\n",
              "      const quickchartButtonEl =\n",
              "        document.querySelector('#' + key + ' button');\n",
              "      quickchartButtonEl.disabled = true;  // To prevent multiple clicks.\n",
              "      quickchartButtonEl.classList.add('colab-df-spinner');\n",
              "      try {\n",
              "        const charts = await google.colab.kernel.invokeFunction(\n",
              "            'suggestCharts', [key], {});\n",
              "      } catch (error) {\n",
              "        console.error('Error during call to suggestCharts:', error);\n",
              "      }\n",
              "      quickchartButtonEl.classList.remove('colab-df-spinner');\n",
              "      quickchartButtonEl.classList.add('colab-df-quickchart-complete');\n",
              "    }\n",
              "    (() => {\n",
              "      let quickchartButtonEl =\n",
              "        document.querySelector('#df-56a14672-33b0-4166-9397-82e72e4c781f button');\n",
              "      quickchartButtonEl.style.display =\n",
              "        google.colab.kernel.accessAllowed ? 'block' : 'none';\n",
              "    })();\n",
              "  </script>\n",
              "</div>\n",
              "\n",
              "  <div id=\"id_b4539ff0-f6fe-4486-862b-29b2b0afffe6\">\n",
              "    <style>\n",
              "      .colab-df-generate {\n",
              "        background-color: #E8F0FE;\n",
              "        border: none;\n",
              "        border-radius: 50%;\n",
              "        cursor: pointer;\n",
              "        display: none;\n",
              "        fill: #1967D2;\n",
              "        height: 32px;\n",
              "        padding: 0 0 0 0;\n",
              "        width: 32px;\n",
              "      }\n",
              "\n",
              "      .colab-df-generate:hover {\n",
              "        background-color: #E2EBFA;\n",
              "        box-shadow: 0px 1px 2px rgba(60, 64, 67, 0.3), 0px 1px 3px 1px rgba(60, 64, 67, 0.15);\n",
              "        fill: #174EA6;\n",
              "      }\n",
              "\n",
              "      [theme=dark] .colab-df-generate {\n",
              "        background-color: #3B4455;\n",
              "        fill: #D2E3FC;\n",
              "      }\n",
              "\n",
              "      [theme=dark] .colab-df-generate:hover {\n",
              "        background-color: #434B5C;\n",
              "        box-shadow: 0px 1px 3px 1px rgba(0, 0, 0, 0.15);\n",
              "        filter: drop-shadow(0px 1px 2px rgba(0, 0, 0, 0.3));\n",
              "        fill: #FFFFFF;\n",
              "      }\n",
              "    </style>\n",
              "    <button class=\"colab-df-generate\" onclick=\"generateWithVariable('test_df')\"\n",
              "            title=\"Generate code using this dataframe.\"\n",
              "            style=\"display:none;\">\n",
              "\n",
              "  <svg xmlns=\"http://www.w3.org/2000/svg\" height=\"24px\"viewBox=\"0 0 24 24\"\n",
              "       width=\"24px\">\n",
              "    <path d=\"M7,19H8.4L18.45,9,17,7.55,7,17.6ZM5,21V16.75L18.45,3.32a2,2,0,0,1,2.83,0l1.4,1.43a1.91,1.91,0,0,1,.58,1.4,1.91,1.91,0,0,1-.58,1.4L9.25,21ZM18.45,9,17,7.55Zm-12,3A5.31,5.31,0,0,0,4.9,8.1,5.31,5.31,0,0,0,1,6.5,5.31,5.31,0,0,0,4.9,4.9,5.31,5.31,0,0,0,6.5,1,5.31,5.31,0,0,0,8.1,4.9,5.31,5.31,0,0,0,12,6.5,5.46,5.46,0,0,0,6.5,12Z\"/>\n",
              "  </svg>\n",
              "    </button>\n",
              "    <script>\n",
              "      (() => {\n",
              "      const buttonEl =\n",
              "        document.querySelector('#id_b4539ff0-f6fe-4486-862b-29b2b0afffe6 button.colab-df-generate');\n",
              "      buttonEl.style.display =\n",
              "        google.colab.kernel.accessAllowed ? 'block' : 'none';\n",
              "\n",
              "      buttonEl.onclick = () => {\n",
              "        google.colab.notebook.generateWithVariable('test_df');\n",
              "      }\n",
              "      })();\n",
              "    </script>\n",
              "  </div>\n",
              "\n",
              "    </div>\n",
              "  </div>\n"
            ],
            "application/vnd.google.colaboratory.intrinsic+json": {
              "type": "dataframe",
              "variable_name": "test_df",
              "summary": "{\n  \"name\": \"test_df\",\n  \"rows\": 10,\n  \"fields\": [\n    {\n      \"column\": \"test_question\",\n      \"properties\": {\n        \"dtype\": \"string\",\n        \"num_unique_values\": 10,\n        \"samples\": [\n          \"How does Prime Try Before You Buy work?\",\n          \"What shipping options are included with Amazon Prime membership?\",\n          \"What streaming benefits does Amazon Prime Video offer?\"\n        ],\n        \"semantic_type\": \"\",\n        \"description\": \"\"\n      }\n    },\n    {\n      \"column\": \"test_answer\",\n      \"properties\": {\n        \"dtype\": \"string\",\n        \"num_unique_values\": 10,\n        \"samples\": [\n          \"Prime Try Before You Buy allows Prime members to try eligible items from various categories at home for seven days. Members only pay for the items they decide to keep after the trial period. <%>\",\n          \"Amazon Prime offers several shipping options, including FREE Two-Day Shipping, FREE Same-Day Delivery, Amazon Day Delivery, FREE 2-Hour Delivery through Prime Now, FREE Release-Date Delivery, and FREE Standard Shipping. <%>\",\n          \"Amazon Prime Video provides unlimited streaming of movies and TV episodes for paid and free trial members in the US and Puerto Rico. <%>\"\n        ],\n        \"semantic_type\": \"\",\n        \"description\": \"\"\n      }\n    }\n  ]\n}"
            }
          },
          "metadata": {},
          "execution_count": 21
        }
      ]
    },
    {
      "cell_type": "code",
      "source": [
        "# Extract questions and reference responses\n",
        "questions = test_df['test_question'].tolist()\n",
        "reference_responses = test_df['test_answer'].tolist()\n"
      ],
      "metadata": {
        "id": "GhgYDd7SbuaF"
      },
      "execution_count": 22,
      "outputs": []
    },
    {
      "cell_type": "code",
      "source": [
        "# Generate responses for all questions using the ask function\n",
        "generated_responses = [ask(question) for question in questions]"
      ],
      "metadata": {
        "id": "lUHcRIBRb2TF"
      },
      "execution_count": 23,
      "outputs": []
    },
    {
      "cell_type": "code",
      "source": [
        "generated_responses"
      ],
      "metadata": {
        "colab": {
          "base_uri": "https://localhost:8080/"
        },
        "id": "jJCNMJjbcNJG",
        "outputId": "0aea52ee-f1b8-48e3-9c25-e33b71fcde40"
      },
      "execution_count": 24,
      "outputs": [
        {
          "output_type": "execute_result",
          "data": {
            "text/plain": [
              "['1. Items sold by Amazon.com marked as eligible for Prime.\\n2. Many items fulfilled by Amazon and qualified sellers marked as Prime-eligible.\\n3. Items that have a Prime eligibility message at checkout.\\n\\nWould you like to know more about specific items that are ineligible for Amazon Prime shipping benefits or how to qualify for Prime FREE Same-Day Delivery?',\n",
              " '1. Amazon Prime offers FREE Two-Day Shipping.\\n2. Amazon Prime includes FREE Same-Day Delivery.\\n3. Amazon Prime membership provides FREE Release-Date Delivery. \\n\\nWould you like to know more about specific delivery benefits or how to qualify for certain shipping options with Amazon Prime?',\n",
              " '1. Amazon Day Delivery allows Prime customers to select a preferred day of the week to receive eligible items.\\n2. It is a free benefit that consolidates multiple orders into one delivery when possible.\\n3. This feature streamlines deliveries and offers customers more control over their shipping schedules.\\n\\nFeel free to ask about other Amazon Prime delivery options or any related queries!',\n",
              " '1. Items fulfilled by Amazon Marketplace sellers not marked as Prime-eligible.\\n2. Magazine subscriptions, personalized gift cards, and items without a Prime eligibility message.\\n3. Deliveries to U.S. territories, international destinations, P.O. Boxes, and Amazon Hub Lockers.\\n\\nWould you like to know more about the eligibility criteria for Amazon Prime shipping or have any other questions related to Amazon Prime benefits?',\n",
              " '1. Amazon Prime benefits are not available for international destinations.\\n2. Deliveries to international destinations are ineligible for Amazon Prime shipping benefits.\\n3. Amazon Prime shipping is limited to U.S. territories and does not extend to international orders.\\n\\nWould you like to know more about the specific shipping benefits available for Amazon Prime members within the U.S.?',\n",
              " '1. Amazon Prime Video offers unlimited streaming of movies and TV episodes for paid or free trial members in the US and Puerto Rico.\\n2. Prime Video provides a wide range of content, including exclusive Amazon Originals.\\n3. Prime Video allows users to download select titles for offline viewing on compatible devices. \\n\\nDo you have any other questions about Amazon Prime Video or its additional features?',\n",
              " '1. Prime members can access Amazon Music for free, which includes 100 million songs ad-free, top podcasts, and thousands of playlists and stations at no additional cost.\\n2. They can enjoy this benefit as part of their Amazon Prime membership without any extra charges.\\n3. To access Amazon Music for free, Prime members can simply log in to their Amazon account and start streaming music, podcasts, playlists, and stations included in the service.',\n",
              " '1. Prime Gaming offers free games to Prime members.\\n2. Prime Gaming provides a free monthly Twitch channel subscription.\\n3. Prime Gaming includes access to additional gaming benefits as part of your Prime membership.\\n\\nWould you like to know more about how to access and make the most of Prime Gaming benefits?',\n",
              " '1. Prime Try Before You Buy allows members to try eligible items from various categories at home for seven days.\\n2. You only pay for what you keep after the trial period.\\n3. To participate, select items marked \"Prime Wardrobe\" and enjoy the convenience of trying before purchasing.\\n\\nWhat is the process for returning Prime Try Before You Buy items?',\n",
              " '1. Prime members get exclusive savings at Whole Foods Market.\\n2. Prime members receive 5% back with the Amazon Prime Rewards Visa Card.\\n3. Prime members can enjoy two-hour delivery in select cities.\\n\\nWould you like to know more about other benefits available to Amazon Prime members or have any other questions related to Amazon Prime?']"
            ]
          },
          "metadata": {},
          "execution_count": 24
        }
      ]
    },
    {
      "cell_type": "code",
      "source": [
        "# Calculate BLEU scores for all responses\n",
        "smoothie = SmoothingFunction().method4\n",
        "bleu_scores = [\n",
        "    sentence_bleu([nltk.word_tokenize(reference)], nltk.word_tokenize(generated), smoothing_function=smoothie)\n",
        "    for reference, generated in zip(reference_responses, generated_responses)\n",
        "]\n",
        "\n",
        "# Initialize the ROUGE scorer\n",
        "rouge = Rouge()\n",
        "\n",
        "# Calculate ROUGE scores for all responses\n",
        "rouge_scores = [\n",
        "    rouge.get_scores(generated, reference, avg=True)\n",
        "    for reference, generated in zip(reference_responses, generated_responses)\n",
        "]\n",
        "\n",
        "# Extract relevant ROUGE metrics (e.g., ROUGE-1, ROUGE-2, ROUGE-L)\n",
        "rouge_1_scores = [score['rouge-1']['f'] for score in rouge_scores]\n",
        "rouge_2_scores = [score['rouge-2']['f'] for score in rouge_scores]\n",
        "rouge_l_scores = [score['rouge-l']['f'] for score in rouge_scores]\n",
        "\n",
        "# Tokenize the reference and generated responses\n",
        "tokenized_references = [nltk.word_tokenize(reference) for reference in reference_responses]\n",
        "tokenized_generated = [nltk.word_tokenize(generated) for generated in generated_responses]\n",
        "\n",
        "# Calculate METEOR scores for all responses\n",
        "meteor_scores = [\n",
        "    meteor_score([reference], generated)\n",
        "    for reference, generated in zip(tokenized_references, tokenized_generated)\n",
        "]\n",
        "\n",
        "# Combine the data into a DataFrame for better visualization\n",
        "results_df = pd.DataFrame({\n",
        "    'Question': questions,\n",
        "    'Reference Response': reference_responses,\n",
        "    'Generated Response': generated_responses,\n",
        "    'BLEU Score': bleu_scores,\n",
        "    'ROUGE-1': rouge_1_scores,\n",
        "    'ROUGE-2': rouge_2_scores,\n",
        "    'ROUGE-L': rouge_l_scores,\n",
        "    'METEOR': meteor_scores\n",
        "})\n",
        "\n",
        "# Export the DataFrame to an Excel file\n",
        "display(results_df.head())\n",
        "final_output_file_path = '/content/drive/MyDrive/2024 Summer Project/Customized ChatBot/chatbot_performance_evaluation.xlsx'\n",
        "results_df.to_excel(final_output_file_path, index=False)"
      ],
      "metadata": {
        "colab": {
          "base_uri": "https://localhost:8080/",
          "height": 206
        },
        "id": "wNrPDUDwkzxf",
        "outputId": "cec435e5-8cd3-4b83-e0ef-7786d800264b"
      },
      "execution_count": 25,
      "outputs": [
        {
          "output_type": "display_data",
          "data": {
            "text/plain": [
              "                                            Question  \\\n",
              "0  What products qualify for Amazon Prime shippin...   \n",
              "1  What shipping options are included with Amazon...   \n",
              "2               Can you explain Amazon Day Delivery?   \n",
              "3  Are there any items that do not qualify for Am...   \n",
              "4  Is Amazon Prime shipping available for interna...   \n",
              "\n",
              "                                  Reference Response  \\\n",
              "0  Items sold directly by Amazon.com and marked a...   \n",
              "1  Amazon Prime offers several shipping options, ...   \n",
              "2  Amazon Day Delivery allows Prime members to ch...   \n",
              "3  Items not eligible for Prime shipping include ...   \n",
              "4  No, Amazon Prime shipping benefits are not ava...   \n",
              "\n",
              "                                  Generated Response  BLEU Score   ROUGE-1  \\\n",
              "0  1. Items sold by Amazon.com marked as eligible...    0.266790  0.533333   \n",
              "1  1. Amazon Prime offers FREE Two-Day Shipping.\\...    0.083292  0.357143   \n",
              "2  1. Amazon Day Delivery allows Prime customers ...    0.235870  0.554217   \n",
              "3  1. Items fulfilled by Amazon Marketplace selle...    0.317352  0.610526   \n",
              "4  1. Amazon Prime benefits are not available for...    0.119214  0.416667   \n",
              "\n",
              "    ROUGE-2   ROUGE-L    METEOR  \n",
              "0  0.417582  0.506667  0.562576  \n",
              "1  0.144928  0.357143  0.304122  \n",
              "2  0.355556  0.554217  0.596430  \n",
              "3  0.365385  0.589474  0.711279  \n",
              "4  0.300000  0.416667  0.485935  "
            ],
            "text/html": [
              "\n",
              "  <div id=\"df-8b88397a-fabc-4205-9f1c-0a2c728240e6\" class=\"colab-df-container\">\n",
              "    <div>\n",
              "<style scoped>\n",
              "    .dataframe tbody tr th:only-of-type {\n",
              "        vertical-align: middle;\n",
              "    }\n",
              "\n",
              "    .dataframe tbody tr th {\n",
              "        vertical-align: top;\n",
              "    }\n",
              "\n",
              "    .dataframe thead th {\n",
              "        text-align: right;\n",
              "    }\n",
              "</style>\n",
              "<table border=\"1\" class=\"dataframe\">\n",
              "  <thead>\n",
              "    <tr style=\"text-align: right;\">\n",
              "      <th></th>\n",
              "      <th>Question</th>\n",
              "      <th>Reference Response</th>\n",
              "      <th>Generated Response</th>\n",
              "      <th>BLEU Score</th>\n",
              "      <th>ROUGE-1</th>\n",
              "      <th>ROUGE-2</th>\n",
              "      <th>ROUGE-L</th>\n",
              "      <th>METEOR</th>\n",
              "    </tr>\n",
              "  </thead>\n",
              "  <tbody>\n",
              "    <tr>\n",
              "      <th>0</th>\n",
              "      <td>What products qualify for Amazon Prime shippin...</td>\n",
              "      <td>Items sold directly by Amazon.com and marked a...</td>\n",
              "      <td>1. Items sold by Amazon.com marked as eligible...</td>\n",
              "      <td>0.266790</td>\n",
              "      <td>0.533333</td>\n",
              "      <td>0.417582</td>\n",
              "      <td>0.506667</td>\n",
              "      <td>0.562576</td>\n",
              "    </tr>\n",
              "    <tr>\n",
              "      <th>1</th>\n",
              "      <td>What shipping options are included with Amazon...</td>\n",
              "      <td>Amazon Prime offers several shipping options, ...</td>\n",
              "      <td>1. Amazon Prime offers FREE Two-Day Shipping.\\...</td>\n",
              "      <td>0.083292</td>\n",
              "      <td>0.357143</td>\n",
              "      <td>0.144928</td>\n",
              "      <td>0.357143</td>\n",
              "      <td>0.304122</td>\n",
              "    </tr>\n",
              "    <tr>\n",
              "      <th>2</th>\n",
              "      <td>Can you explain Amazon Day Delivery?</td>\n",
              "      <td>Amazon Day Delivery allows Prime members to ch...</td>\n",
              "      <td>1. Amazon Day Delivery allows Prime customers ...</td>\n",
              "      <td>0.235870</td>\n",
              "      <td>0.554217</td>\n",
              "      <td>0.355556</td>\n",
              "      <td>0.554217</td>\n",
              "      <td>0.596430</td>\n",
              "    </tr>\n",
              "    <tr>\n",
              "      <th>3</th>\n",
              "      <td>Are there any items that do not qualify for Am...</td>\n",
              "      <td>Items not eligible for Prime shipping include ...</td>\n",
              "      <td>1. Items fulfilled by Amazon Marketplace selle...</td>\n",
              "      <td>0.317352</td>\n",
              "      <td>0.610526</td>\n",
              "      <td>0.365385</td>\n",
              "      <td>0.589474</td>\n",
              "      <td>0.711279</td>\n",
              "    </tr>\n",
              "    <tr>\n",
              "      <th>4</th>\n",
              "      <td>Is Amazon Prime shipping available for interna...</td>\n",
              "      <td>No, Amazon Prime shipping benefits are not ava...</td>\n",
              "      <td>1. Amazon Prime benefits are not available for...</td>\n",
              "      <td>0.119214</td>\n",
              "      <td>0.416667</td>\n",
              "      <td>0.300000</td>\n",
              "      <td>0.416667</td>\n",
              "      <td>0.485935</td>\n",
              "    </tr>\n",
              "  </tbody>\n",
              "</table>\n",
              "</div>\n",
              "    <div class=\"colab-df-buttons\">\n",
              "\n",
              "  <div class=\"colab-df-container\">\n",
              "    <button class=\"colab-df-convert\" onclick=\"convertToInteractive('df-8b88397a-fabc-4205-9f1c-0a2c728240e6')\"\n",
              "            title=\"Convert this dataframe to an interactive table.\"\n",
              "            style=\"display:none;\">\n",
              "\n",
              "  <svg xmlns=\"http://www.w3.org/2000/svg\" height=\"24px\" viewBox=\"0 -960 960 960\">\n",
              "    <path d=\"M120-120v-720h720v720H120Zm60-500h600v-160H180v160Zm220 220h160v-160H400v160Zm0 220h160v-160H400v160ZM180-400h160v-160H180v160Zm440 0h160v-160H620v160ZM180-180h160v-160H180v160Zm440 0h160v-160H620v160Z\"/>\n",
              "  </svg>\n",
              "    </button>\n",
              "\n",
              "  <style>\n",
              "    .colab-df-container {\n",
              "      display:flex;\n",
              "      gap: 12px;\n",
              "    }\n",
              "\n",
              "    .colab-df-convert {\n",
              "      background-color: #E8F0FE;\n",
              "      border: none;\n",
              "      border-radius: 50%;\n",
              "      cursor: pointer;\n",
              "      display: none;\n",
              "      fill: #1967D2;\n",
              "      height: 32px;\n",
              "      padding: 0 0 0 0;\n",
              "      width: 32px;\n",
              "    }\n",
              "\n",
              "    .colab-df-convert:hover {\n",
              "      background-color: #E2EBFA;\n",
              "      box-shadow: 0px 1px 2px rgba(60, 64, 67, 0.3), 0px 1px 3px 1px rgba(60, 64, 67, 0.15);\n",
              "      fill: #174EA6;\n",
              "    }\n",
              "\n",
              "    .colab-df-buttons div {\n",
              "      margin-bottom: 4px;\n",
              "    }\n",
              "\n",
              "    [theme=dark] .colab-df-convert {\n",
              "      background-color: #3B4455;\n",
              "      fill: #D2E3FC;\n",
              "    }\n",
              "\n",
              "    [theme=dark] .colab-df-convert:hover {\n",
              "      background-color: #434B5C;\n",
              "      box-shadow: 0px 1px 3px 1px rgba(0, 0, 0, 0.15);\n",
              "      filter: drop-shadow(0px 1px 2px rgba(0, 0, 0, 0.3));\n",
              "      fill: #FFFFFF;\n",
              "    }\n",
              "  </style>\n",
              "\n",
              "    <script>\n",
              "      const buttonEl =\n",
              "        document.querySelector('#df-8b88397a-fabc-4205-9f1c-0a2c728240e6 button.colab-df-convert');\n",
              "      buttonEl.style.display =\n",
              "        google.colab.kernel.accessAllowed ? 'block' : 'none';\n",
              "\n",
              "      async function convertToInteractive(key) {\n",
              "        const element = document.querySelector('#df-8b88397a-fabc-4205-9f1c-0a2c728240e6');\n",
              "        const dataTable =\n",
              "          await google.colab.kernel.invokeFunction('convertToInteractive',\n",
              "                                                    [key], {});\n",
              "        if (!dataTable) return;\n",
              "\n",
              "        const docLinkHtml = 'Like what you see? Visit the ' +\n",
              "          '<a target=\"_blank\" href=https://colab.research.google.com/notebooks/data_table.ipynb>data table notebook</a>'\n",
              "          + ' to learn more about interactive tables.';\n",
              "        element.innerHTML = '';\n",
              "        dataTable['output_type'] = 'display_data';\n",
              "        await google.colab.output.renderOutput(dataTable, element);\n",
              "        const docLink = document.createElement('div');\n",
              "        docLink.innerHTML = docLinkHtml;\n",
              "        element.appendChild(docLink);\n",
              "      }\n",
              "    </script>\n",
              "  </div>\n",
              "\n",
              "\n",
              "<div id=\"df-eae88495-92f4-4d5f-8bb6-abab4e8ec911\">\n",
              "  <button class=\"colab-df-quickchart\" onclick=\"quickchart('df-eae88495-92f4-4d5f-8bb6-abab4e8ec911')\"\n",
              "            title=\"Suggest charts\"\n",
              "            style=\"display:none;\">\n",
              "\n",
              "<svg xmlns=\"http://www.w3.org/2000/svg\" height=\"24px\"viewBox=\"0 0 24 24\"\n",
              "     width=\"24px\">\n",
              "    <g>\n",
              "        <path d=\"M19 3H5c-1.1 0-2 .9-2 2v14c0 1.1.9 2 2 2h14c1.1 0 2-.9 2-2V5c0-1.1-.9-2-2-2zM9 17H7v-7h2v7zm4 0h-2V7h2v10zm4 0h-2v-4h2v4z\"/>\n",
              "    </g>\n",
              "</svg>\n",
              "  </button>\n",
              "\n",
              "<style>\n",
              "  .colab-df-quickchart {\n",
              "      --bg-color: #E8F0FE;\n",
              "      --fill-color: #1967D2;\n",
              "      --hover-bg-color: #E2EBFA;\n",
              "      --hover-fill-color: #174EA6;\n",
              "      --disabled-fill-color: #AAA;\n",
              "      --disabled-bg-color: #DDD;\n",
              "  }\n",
              "\n",
              "  [theme=dark] .colab-df-quickchart {\n",
              "      --bg-color: #3B4455;\n",
              "      --fill-color: #D2E3FC;\n",
              "      --hover-bg-color: #434B5C;\n",
              "      --hover-fill-color: #FFFFFF;\n",
              "      --disabled-bg-color: #3B4455;\n",
              "      --disabled-fill-color: #666;\n",
              "  }\n",
              "\n",
              "  .colab-df-quickchart {\n",
              "    background-color: var(--bg-color);\n",
              "    border: none;\n",
              "    border-radius: 50%;\n",
              "    cursor: pointer;\n",
              "    display: none;\n",
              "    fill: var(--fill-color);\n",
              "    height: 32px;\n",
              "    padding: 0;\n",
              "    width: 32px;\n",
              "  }\n",
              "\n",
              "  .colab-df-quickchart:hover {\n",
              "    background-color: var(--hover-bg-color);\n",
              "    box-shadow: 0 1px 2px rgba(60, 64, 67, 0.3), 0 1px 3px 1px rgba(60, 64, 67, 0.15);\n",
              "    fill: var(--button-hover-fill-color);\n",
              "  }\n",
              "\n",
              "  .colab-df-quickchart-complete:disabled,\n",
              "  .colab-df-quickchart-complete:disabled:hover {\n",
              "    background-color: var(--disabled-bg-color);\n",
              "    fill: var(--disabled-fill-color);\n",
              "    box-shadow: none;\n",
              "  }\n",
              "\n",
              "  .colab-df-spinner {\n",
              "    border: 2px solid var(--fill-color);\n",
              "    border-color: transparent;\n",
              "    border-bottom-color: var(--fill-color);\n",
              "    animation:\n",
              "      spin 1s steps(1) infinite;\n",
              "  }\n",
              "\n",
              "  @keyframes spin {\n",
              "    0% {\n",
              "      border-color: transparent;\n",
              "      border-bottom-color: var(--fill-color);\n",
              "      border-left-color: var(--fill-color);\n",
              "    }\n",
              "    20% {\n",
              "      border-color: transparent;\n",
              "      border-left-color: var(--fill-color);\n",
              "      border-top-color: var(--fill-color);\n",
              "    }\n",
              "    30% {\n",
              "      border-color: transparent;\n",
              "      border-left-color: var(--fill-color);\n",
              "      border-top-color: var(--fill-color);\n",
              "      border-right-color: var(--fill-color);\n",
              "    }\n",
              "    40% {\n",
              "      border-color: transparent;\n",
              "      border-right-color: var(--fill-color);\n",
              "      border-top-color: var(--fill-color);\n",
              "    }\n",
              "    60% {\n",
              "      border-color: transparent;\n",
              "      border-right-color: var(--fill-color);\n",
              "    }\n",
              "    80% {\n",
              "      border-color: transparent;\n",
              "      border-right-color: var(--fill-color);\n",
              "      border-bottom-color: var(--fill-color);\n",
              "    }\n",
              "    90% {\n",
              "      border-color: transparent;\n",
              "      border-bottom-color: var(--fill-color);\n",
              "    }\n",
              "  }\n",
              "</style>\n",
              "\n",
              "  <script>\n",
              "    async function quickchart(key) {\n",
              "      const quickchartButtonEl =\n",
              "        document.querySelector('#' + key + ' button');\n",
              "      quickchartButtonEl.disabled = true;  // To prevent multiple clicks.\n",
              "      quickchartButtonEl.classList.add('colab-df-spinner');\n",
              "      try {\n",
              "        const charts = await google.colab.kernel.invokeFunction(\n",
              "            'suggestCharts', [key], {});\n",
              "      } catch (error) {\n",
              "        console.error('Error during call to suggestCharts:', error);\n",
              "      }\n",
              "      quickchartButtonEl.classList.remove('colab-df-spinner');\n",
              "      quickchartButtonEl.classList.add('colab-df-quickchart-complete');\n",
              "    }\n",
              "    (() => {\n",
              "      let quickchartButtonEl =\n",
              "        document.querySelector('#df-eae88495-92f4-4d5f-8bb6-abab4e8ec911 button');\n",
              "      quickchartButtonEl.style.display =\n",
              "        google.colab.kernel.accessAllowed ? 'block' : 'none';\n",
              "    })();\n",
              "  </script>\n",
              "</div>\n",
              "\n",
              "    </div>\n",
              "  </div>\n"
            ],
            "application/vnd.google.colaboratory.intrinsic+json": {
              "type": "dataframe",
              "summary": "{\n  \"name\": \"results_df\",\n  \"rows\": 5,\n  \"fields\": [\n    {\n      \"column\": \"Question\",\n      \"properties\": {\n        \"dtype\": \"string\",\n        \"num_unique_values\": 5,\n        \"samples\": [\n          \"What shipping options are included with Amazon Prime membership?\",\n          \"Is Amazon Prime shipping available for international orders?\",\n          \"Can you explain Amazon Day Delivery?\"\n        ],\n        \"semantic_type\": \"\",\n        \"description\": \"\"\n      }\n    },\n    {\n      \"column\": \"Reference Response\",\n      \"properties\": {\n        \"dtype\": \"string\",\n        \"num_unique_values\": 5,\n        \"samples\": [\n          \"Amazon Prime offers several shipping options, including FREE Two-Day Shipping, FREE Same-Day Delivery, Amazon Day Delivery, FREE 2-Hour Delivery through Prime Now, FREE Release-Date Delivery, and FREE Standard Shipping. <%>\",\n          \"No, Amazon Prime shipping benefits are not available for international orders. <%>\",\n          \"Amazon Day Delivery allows Prime members to choose a specific day of the week to receive eligible items. This free benefit combines multiple orders into one delivery whenever possible. <%>\"\n        ],\n        \"semantic_type\": \"\",\n        \"description\": \"\"\n      }\n    },\n    {\n      \"column\": \"Generated Response\",\n      \"properties\": {\n        \"dtype\": \"string\",\n        \"num_unique_values\": 5,\n        \"samples\": [\n          \"1. Amazon Prime offers FREE Two-Day Shipping.\\n2. Amazon Prime includes FREE Same-Day Delivery.\\n3. Amazon Prime membership provides FREE Release-Date Delivery. \\n\\nWould you like to know more about specific delivery benefits or how to qualify for certain shipping options with Amazon Prime?\",\n          \"1. Amazon Prime benefits are not available for international destinations.\\n2. Deliveries to international destinations are ineligible for Amazon Prime shipping benefits.\\n3. Amazon Prime shipping is limited to U.S. territories and does not extend to international orders.\\n\\nWould you like to know more about the specific shipping benefits available for Amazon Prime members within the U.S.?\",\n          \"1. Amazon Day Delivery allows Prime customers to select a preferred day of the week to receive eligible items.\\n2. It is a free benefit that consolidates multiple orders into one delivery when possible.\\n3. This feature streamlines deliveries and offers customers more control over their shipping schedules.\\n\\nFeel free to ask about other Amazon Prime delivery options or any related queries!\"\n        ],\n        \"semantic_type\": \"\",\n        \"description\": \"\"\n      }\n    },\n    {\n      \"column\": \"BLEU Score\",\n      \"properties\": {\n        \"dtype\": \"number\",\n        \"std\": 0.09945465302614145,\n        \"min\": 0.08329161505138992,\n        \"max\": 0.31735193135230827,\n        \"num_unique_values\": 5,\n        \"samples\": [\n          0.08329161505138992,\n          0.11921397446825427,\n          0.23587037085858403\n        ],\n        \"semantic_type\": \"\",\n        \"description\": \"\"\n      }\n    },\n    {\n      \"column\": \"ROUGE-1\",\n      \"properties\": {\n        \"dtype\": \"number\",\n        \"std\": 0.10423671967039573,\n        \"min\": 0.357142852372449,\n        \"max\": 0.6105263108831026,\n        \"num_unique_values\": 5,\n        \"samples\": [\n          0.357142852372449,\n          0.41666666291666676,\n          0.5542168629235013\n        ],\n        \"semantic_type\": \"\",\n        \"description\": \"\"\n      }\n    },\n    {\n      \"column\": \"ROUGE-2\",\n      \"properties\": {\n        \"dtype\": \"number\",\n        \"std\": 0.10469225969301324,\n        \"min\": 0.14492753135895836,\n        \"max\": 0.4175824128003865,\n        \"num_unique_values\": 5,\n        \"samples\": [\n          0.14492753135895836,\n          0.2999999970055556,\n          0.35555555118765436\n        ],\n        \"semantic_type\": \"\",\n        \"description\": \"\"\n      }\n    },\n    {\n      \"column\": \"ROUGE-L\",\n      \"properties\": {\n        \"dtype\": \"number\",\n        \"std\": 0.09642603940565447,\n        \"min\": 0.357142852372449,\n        \"max\": 0.5894736793041552,\n        \"num_unique_values\": 5,\n        \"samples\": [\n          0.357142852372449,\n          0.41666666291666676,\n          0.5542168629235013\n        ],\n        \"semantic_type\": \"\",\n        \"description\": \"\"\n      }\n    },\n    {\n      \"column\": \"METEOR\",\n      \"properties\": {\n        \"dtype\": \"number\",\n        \"std\": 0.15106071476752742,\n        \"min\": 0.3041219665517646,\n        \"max\": 0.711278668909138,\n        \"num_unique_values\": 5,\n        \"samples\": [\n          0.3041219665517646,\n          0.48593452002542914,\n          0.5964299802761341\n        ],\n        \"semantic_type\": \"\",\n        \"description\": \"\"\n      }\n    }\n  ]\n}"
            }
          },
          "metadata": {}
        }
      ]
    }
  ]
}